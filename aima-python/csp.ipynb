{
 "cells": [
  {
   "cell_type": "markdown",
   "metadata": {},
   "source": [
    "# Programming Exercise 2: Constraint Satisfaction Problem"
   ]
  },
  {
   "cell_type": "markdown",
   "metadata": {},
   "source": [
    "Welcome Party\n",
    "\n",
    "The student union is planning to hold a welcome party for the new students. 8 Students (Abigail, Brian,\n",
    "Caroline, Daniel, Edith, Frank, Grace, Harold) volunteer to perform in several shows. The following four\n",
    "types of shows are allowed to be performed on the party. (Each type of show is performed no more than\n",
    "once): Singing (costume for each student costs 50), Dancing (costume for each student costs 80), Comedy, Piano performance (costume for each student costs 100)\n",
    "\n",
    "Consider the following constraints:\n",
    "\n",
    "1. Everyone should participate in exactly one show\n",
    "2. No one performs alone\n",
    "3. Every type of show is performed (each show must be performed at least by one student)\n",
    "4. Total budget is less than or equal to 400\n",
    "5. Singing requires at least 3 students if it is performed\n",
    "6. Dancing requires a maximum of 2 students if it is performed\n",
    "7. Comedy requires 2 or 3 students if performed\n",
    "8. Piano is played by a single student if it is performed\n",
    "9. Piano is played by two student if it is performed\n",
    "10. Abigail performs together with Harold (other students could also perform with them)\n",
    "11. Frank, Grace and Harold don't perform in the same show because they don't get along (any two of\n",
    "them don't want to perform together.)\n",
    "12. Brian and Daniel don't want to dance\n",
    "13. Abigail and Caroline don't want to perform the comedy\n",
    "14. Edith and Grace want to sing (other students could also sing with them)\n",
    "15. No one plays the piano \n",
    "                                                                                         \n",
    "Model the constraint satisfaction problem in Python. For each of the following subsets of constraints,\n",
    "find the solution, if it exists:\n",
    "\n",
    "Problem 2.1: { 1-2, 5-7, 9-14 }\n",
    "Problem 2.2: { 1, 3-8, 10-12, 14 }\n",
    "Problem 2.3: {1, 3-7, 9-13 }\n",
    "Problem 2.4: { 1-3, 6-7, 11-14 }\n",
    "Problem 2.5: {1-2, 4-7, 9-14 }\n",
    "Problem 2.6: { 1-2, 4-7, 10-15 }\n",
    "Note that problems 2.3 can not be satisfied.\n",
    "\n",
    "\n",
    "                                                                                         \n",
    "Programming Framework:\n",
    "\n",
    "For this programming exercise Jupyter Notebooks will be used. The template for the exercise can be\n",
    "found in ARTEMIS. Since you have to model the constraint satisfaction problem, programming skills in\n",
    "Python lambdas, lists and dictionaries are necessary to complete this exercise. The following steps are\n",
    "required to correctly set up the environment for the programming exercise:\n",
    "1. Installation of Anaconda and Download of the AIMA python code If you do not already\n",
    "have the Jupyter Notebook environment installed on your machine, the installation is the first\n",
    "step you have to perform. We recommend to install Anaconda, since this will set up the whole\n",
    "environment for you. The template for the programming exercise is based on the code from the\n",
    "AIMAcode project. Therefore, you first have to download the code from this project before the\n",
    "template can be used. Instructions for installation of Anaconda and AIMA python code can be\n",
    "found in AIMAinstallation\n",
    "2. Pull of the template: Pull the repository with the template from ARTEMIS. To avoid issues\n",
    "with the relative file paths, we recommend to copy all files contained in the template into the\n",
    "root-directory of the AIMAcode project that you downloaded in the previous step.\n",
    "                                                                                         \n",
    "After completing the above steps, you are all set up to start with the exercise. The main function of\n",
    "the template is the Jupyter Notebook csp.ipynb, which is also the only file you have to\n",
    "work on. Your task is to model the Welcome Party problem. An example, on how to model a constraint\n",
    "satisfaction problem using the AIMAcode, is provided in the notebook. This is the same as given in\n",
    "Exercise 3.4.\n",
    "\n",
    "                                                                                         \n",
    "Submission:\n",
    "\n",
    "For submission, you have to upload the following files in ARTEMIS:\n",
    "1. Copy csp.ipynb (notebook containing your solution for modelling the Welcome\n",
    "Party problem) to the pulled repository.\n",
    "2. Add and commit the altered notebook to, and push it to ARTEMIS.\n",
    "A pass will be awarded only if:\n",
    "1. you submitted the correct file with the correct name, as shown above.\n",
    "2. you did not zip your file.\n",
    "3. you pushed your files to your ARTEMIS branch.\n",
    "4. you did not change the variable names provided by us within the template.\n",
    "5. your submitted files can be run in an Anaconda environment (Python 3.7) with the packages pro-\n",
    "vided by the requirements.txt in the aima repository, the utils.py, the search.py and the csp programming exercise.py\n",
    "provided by us within a reasonable time (under 5 minutes).\n",
    "6. the problem has been modelled correctly using the NaryCSP class from the module\n",
    "csp programming exercise.\n",
    "7. like the rest of the programming exercises, this is an individual project and work must be your\n",
    "own. (We will use a plagiarism detection tool and any copied code will annul all bonus exercises\n",
    "from both the copier and the copied person!)\n",
    "\n",
    "Submission will close on Sunday, 29.12.2020 at 23:59. Your solution will be marked by ARTEMIS.\n",
    "There will be feedback on formatting errors and rightly solved CSP. Nonetheless, it is very important to\n",
    "follow the instructions exactly!\n",
    "We offer preliminary checks of your solution and ARTEMIS will show your progress. You can submit\n",
    "your solution multiple times and get feedback for each submission. Your final submission will be checked.\n",
    "We award 1 point if all checks including plagiarism pass.\n",
    "                                                                                         \n",
    "\n",
    "\n",
    "<div class=\"alert alert-info\">\n",
    "    <h3>Please read the following important information before starting with the programming exercise: </h3>\n",
    "    <p>In order to avoid problems with the relative file path we recommend to place the provided notebook and csp_programming_exercise.py file in the rootfolder of your <b>aima repository</b>.</p> \n",
    "    <p>Do not use/install any additional packages, which are not provided in the requirements.txt of the  <b>aima repository</b>. </p>\n",
    "    <p>For modelling the constraint satisfaction problem you will have to define some variables. Do not change the names of variables that we provided you! Since we use these variables for an automatic evaluation, changing  variable names will result in failing the programming exercise. </p>\n",
    "    <p>Do not modify the example with the TWO + TWO = FOUR problem!</p>\n",
    "    <p>Do not modify the csp_programming_exercise.py!</p>\n",
    "    <p>After completing the exercise, download this jupyter notebook as *.py file (File &rarr; Download as \t&rarr; python (*.py)) </p>\n",
    "    <p>Before uploading this file together with your jupyter notebook to moodle, check if you can run <i>'python AI_Assignment2.py'</i> inside your anaconda environment in the root folder of your <b>aima repository</b>. If we are not able to run your submitted files in an environment with the packages provided by the requirements.txt of the <b>aima repository</b>, you will fail the programming exercise.</p>\n",
    "    \n",
    "</div>"
   ]
  },
  {
   "cell_type": "markdown",
   "metadata": {},
   "source": [
    "## Initialization"
   ]
  },
  {
   "cell_type": "code",
   "execution_count": 1,
   "metadata": {
    "scrolled": true
   },
   "outputs": [],
   "source": [
    "# Do not change this part.\n",
    "import sys, os\n",
    "import pathlib\n",
    "sys.path.append(pathlib.Path().absolute())\n",
    "from csp_programming_exercise import *"
   ]
  },
  {
   "cell_type": "markdown",
   "metadata": {},
   "source": [
    "## Example for Solving a Constraint Satisfaction Problem"
   ]
  },
  {
   "cell_type": "markdown",
   "metadata": {},
   "source": [
    "In this exercise we are going to construct the Welcome Party problem as a constraint satisfaction problem in Python using the csp library. The \"TWO + TWO = FOUR\" problem from the exercise (see Problem 3.4) will help us to understand how to model a constraint satisfaction problem with this library.\n"
   ]
  },
  {
   "cell_type": "markdown",
   "metadata": {},
   "source": [
    "### Constructing the Domains: TWO + TWO = FOUR"
   ]
  },
  {
   "cell_type": "markdown",
   "metadata": {},
   "source": [
    "We start with constructing the domains for our problem. As an example the domains for the TWO + TWO = FOUR- problem from the csp library are given. "
   ]
  },
  {
   "cell_type": "code",
   "execution_count": 2,
   "metadata": {},
   "outputs": [],
   "source": [
    "# Do not change this part\n",
    "# Here we form the domains for the variables: T, F, W, O, U, R, C1, C2 and C3\n",
    "# Domains are formed using key-value pairs,\n",
    "# where the key stands for the variable and the value is for the possible values\n",
    "# set(range(1, 4)) is a short way of creating an array with numbers from 1 to 4\n",
    "# set (range(1, 4)) == [1, 2, 3]\n",
    "# Tip: Remember that you can construct arrays with any variable types\n",
    "\n",
    "domains_TF = {'T': set(range(1, 10)),\n",
    "           'F': set(range(1, 10)),\n",
    "           'W': set(range(0, 10)),\n",
    "           'O': set(range(0, 10)),\n",
    "           'U': set(range(0, 10)),\n",
    "           'R': set(range(0, 10)),\n",
    "           'C1': set(range(0, 2)), \n",
    "           'C2': set(range(0, 2)), \n",
    "           'C3': set(range(0, 2))\n",
    "}"
   ]
  },
  {
   "cell_type": "markdown",
   "metadata": {},
   "source": [
    "### Constructing the Constraints: TWO + TWO = FOUR"
   ]
  },
  {
   "cell_type": "markdown",
   "metadata": {},
   "source": [
    "We continue with defining the constraints for our problem, the most important part of any constraint satisfaction prolem. Let's take a look at the constraints for our \"TWO + TWO = FOUR\" problem to give you some insight about how to construct constraints with the csp library."
   ]
  },
  {
   "cell_type": "code",
   "execution_count": 3,
   "metadata": {},
   "outputs": [],
   "source": [
    "# Do not change this part\n",
    "# Here we define our constraints\n",
    "# The constraint constructor of csp takes two arguments:\n",
    "# 1. The variables that take part in the constraint\n",
    "# 2. The constraint itself which is a function that takes the variables as arguments and returns true or false\n",
    "# all_diff and eq are functions defined in csp \n",
    "# Like their name suggest all_diff returns true if every value is different\n",
    "# and eq returns true if the two values are equal\n",
    "# Tip: Take a look at the lambda operator in python https://www.w3schools.com/python/python_lambda.asp\n",
    "\n",
    "\n",
    "constraint1_TF = Constraint(('T', 'F', 'W', 'O', 'U', 'R'), all_diff)\n",
    "constraint2_TF = Constraint(('O', 'R', 'C1'), lambda o, r, c1: o + o == r + 10 * c1)\n",
    "constraint3_TF = Constraint(('W', 'U', 'C1', 'C2'), lambda w, u, c1, c2: c1 + w + w == u + 10 * c2)\n",
    "constraint4_TF = Constraint(('T', 'O', 'C2', 'C3'), lambda t, o, c2, c3: c2 + t + t == o + 10 * c3)\n",
    "constraint5_TF = Constraint(('F', 'C3'), eq)"
   ]
  },
  {
   "cell_type": "markdown",
   "metadata": {},
   "source": [
    "### Combine the constraints and set up the TWO + TWO = FOUR Problem"
   ]
  },
  {
   "cell_type": "code",
   "execution_count": 4,
   "metadata": {},
   "outputs": [],
   "source": [
    "# Do not change this part\n",
    "# TWO + TWO = FOUR Problem\n",
    "two_four_constraints = [constraint1_TF, constraint2_TF, constraint3_TF, constraint4_TF, constraint5_TF]\n",
    "two_four = NaryCSP(domains_TF, two_four_constraints)\n"
   ]
  },
  {
   "cell_type": "markdown",
   "metadata": {},
   "source": [
    "### Solve the TWO + TWO = FOUR Problem"
   ]
  },
  {
   "cell_type": "code",
   "execution_count": 5,
   "metadata": {},
   "outputs": [
    {
     "data": {
      "text/plain": [
       "{'T': 7, 'F': 1, 'W': 6, 'O': 5, 'U': 3, 'R': 0, 'C1': 1, 'C2': 1, 'C3': 1}"
      ]
     },
     "execution_count": 5,
     "metadata": {},
     "output_type": "execute_result"
    }
   ],
   "source": [
    "# Do not change this part\n",
    "ac_search_solver(two_four)"
   ]
  },
  {
   "cell_type": "markdown",
   "metadata": {},
   "source": [
    "## Programming Exercise Welcome Party"
   ]
  },
  {
   "cell_type": "markdown",
   "metadata": {},
   "source": [
    "### Constructing the Domain"
   ]
  },
  {
   "cell_type": "code",
   "execution_count": 6,
   "metadata": {},
   "outputs": [],
   "source": [
    "# Define your domain here\n",
    "cast = set([(a,b,c,d,e,f,g,h) for a in range(0, 2) for b in range(0, 2) for c in range(0, 2) for d in range(0, 2) for e in range(0, 2) for f in range(0, 2) for g in range(0, 2) for h in range(0, 2)])\n",
    "\n",
    "domains_shows = {\"S\": cast,\n",
    "                    \"D\": cast,\n",
    "                    \"C\": cast,\n",
    "                    \"P\": cast,\n",
    "                   }"
   ]
  },
  {
   "cell_type": "markdown",
   "metadata": {},
   "source": [
    "### Constructing the Constraints: Welcome Party"
   ]
  },
  {
   "cell_type": "code",
   "execution_count": 7,
   "metadata": {},
   "outputs": [],
   "source": [
    "#Define constraints\n",
    "constraint1 = Constraint(('S', 'D', 'C', 'P'), lambda s, d, c, p: [s[i] + d[i] + c[i] + p[i] for i in range(8)] == [1, 1, 1, 1, 1, 1, 1, 1])\n",
    "\n",
    "\n",
    "constraint2s = Constraint(('S'), lambda s: sum(s) != 1)\n",
    "constraint2d = Constraint(('D'), lambda d: sum(d) != 1)\n",
    "constraint2c = Constraint(('C'), lambda c: sum(c) != 1)\n",
    "constraint2p = Constraint(('P'), lambda p: sum(p) != 1)\n",
    "\n",
    "constraint3s = Constraint(('S'), lambda s: sum(s) > 0)\n",
    "constraint3d = Constraint(('D'), lambda d: sum(d) > 0)\n",
    "constraint3c = Constraint(('C'), lambda c: sum(c) > 0)\n",
    "constraint3p = Constraint(('P'), lambda p: sum(p) > 0)\n",
    "\n",
    "constraint4 = Constraint(('S', 'D', 'P'), lambda s, d, p: 50 * sum(s) + 80 * sum(d) + 100 * sum(p) < 401)\n",
    "\n",
    "constraint5 = Constraint(('S'), lambda s: sum(s) in [0, 3, 4, 5, 6, 7, 8])\n",
    "\n",
    "constraint6 = Constraint(('D'), lambda d: sum(d) < 3)\n",
    "\n",
    "constraint7 = Constraint(('C'), lambda c: sum(c) in [0, 2, 3])\n",
    "\n",
    "constraint8 = Constraint(('P'), lambda p: sum(p) < 2)\n",
    "\n",
    "constraint9 = Constraint(('P'), lambda p: sum(p) in [0, 2])\n",
    "\n",
    "constraint10s = Constraint(('S'), lambda s: s[0] == s[7])\n",
    "constraint10d = Constraint(('D'), lambda d: d[0] == d[7])\n",
    "constraint10c = Constraint(('C'), lambda c: c[0] == c[7])\n",
    "constraint10p = Constraint(('P'), lambda p: p[0] == p[7])\n",
    "\n",
    "constraint11s = Constraint(('S'), lambda s: s[5] + s[6] + s[7] < 2)\n",
    "constraint11d = Constraint(('D'), lambda d: d[5] + d[6] + d[7] < 2)\n",
    "constraint11c = Constraint(('C'), lambda c: c[5] + c[6] + c[7] < 2)\n",
    "constraint11p = Constraint(('P'), lambda p: p[5] + p[6] + p[7] < 2)\n",
    "\n",
    "constraint12 = Constraint(('S'), lambda s: s[1] + s[3] == 0)\n",
    "\n",
    "constraint13 = Constraint(('C'), lambda c: c[0] + c[2] == 0)\n",
    "\n",
    "constraint14 = Constraint(('S'), lambda s: s[4] + s[6] == 2)\n",
    "\n",
    "constraint15 = Constraint(('P'), lambda p: sum(p) == 0)"
   ]
  },
  {
   "cell_type": "markdown",
   "metadata": {},
   "source": [
    "### Combine the constraints and set up the CSPs for the different problems"
   ]
  },
  {
   "cell_type": "markdown",
   "metadata": {},
   "source": [
    "<div class=\"alert alert-info\">\n",
    "    <p>The variables csp_21, csp_22, .. are defined for setting up the CSPs for the corresponding problems. You have to use these variable names otherwise this will result in failing the programming exercise.</p> \n",
    "</div>"
   ]
  },
  {
   "cell_type": "code",
   "execution_count": 8,
   "metadata": {},
   "outputs": [],
   "source": [
    "# Construct the Welcome Party Problems\n",
    "\n",
    "# Combine Constraints and set up the csp for Problem 2.1\n",
    "# TODO:\n",
    "csp_21 = NaryCSP(domains_shows, [constraint1, constraint2s, constraint2d, constraint2c, constraint2p, constraint5, constraint6, constraint7, constraint9, constraint10s, constraint10d, constraint10c, constraint10p, constraint11s, constraint11d, constraint11c, constraint11p, constraint12, constraint13, constraint14]) \n",
    "\n",
    "# Combine Constraints and set up the csp for Problem 2.2\n",
    "# TODO:\n",
    "csp_22 =  NaryCSP(domains_shows, [constraint1, constraint3s, constraint3d, constraint3c, constraint3p, constraint4, constraint5, constraint6, constraint7, constraint8, constraint10s, constraint10d, constraint10c, constraint10p, constraint11s, constraint11d, constraint11c, constraint11p, constraint12, constraint14]) \n",
    "\n",
    "\n",
    "# Combine Constraints and set up the csp for Problem 2.3\n",
    "# TODO:\n",
    "csp_23 = NaryCSP(domains_shows, [constraint1, constraint3s, constraint3d, constraint3c, constraint3p, constraint4, constraint5, constraint6, constraint7, constraint9, constraint10s, constraint10d, constraint10c, constraint10p, constraint11s, constraint11d, constraint11c, constraint11p, constraint12, constraint13]) \n",
    "\n",
    "\n",
    "# Combine Constraints and set up the csp for Problem 2.4\n",
    "# TODO:\n",
    "csp_24 = NaryCSP(domains_shows, [constraint1, constraint2s, constraint2d, constraint2c, constraint2p, constraint3s, constraint3d, constraint3c, constraint3p, constraint6, constraint7, constraint11s, constraint11d, constraint11c, constraint11p, constraint12, constraint13, constraint14])  \n",
    "\n",
    "\n",
    "# Combine Constraints and set up the csp for Problem 2.5\n",
    "# TODO:\n",
    "csp_25 = NaryCSP(domains_shows, [constraint1, constraint2s, constraint2d, constraint2c, constraint2p, constraint4, constraint5, constraint6, constraint7, constraint9, constraint10s, constraint10d, constraint10c, constraint10p, constraint11s, constraint11d, constraint11c, constraint11p, constraint12, constraint13, constraint14])  \n",
    "\n",
    "\n",
    "# Combine Constraints and set up the csp for Problem 2.6\n",
    "# TODO:\n",
    "csp_26 = NaryCSP(domains_shows, [constraint1, constraint2s, constraint2d, constraint2c, constraint2p, constraint4, constraint5, constraint6, constraint7, constraint10s, constraint10d, constraint10c, constraint10p, constraint11s, constraint11d, constraint11c, constraint11p, constraint12, constraint13, constraint14, constraint15])  \n"
   ]
  },
  {
   "cell_type": "markdown",
   "metadata": {},
   "source": [
    "### Solving the CSP"
   ]
  },
  {
   "cell_type": "markdown",
   "metadata": {},
   "source": [
    "<div class=\"alert alert-info\">\n",
    "    <p>Do not change the following cell. If you can't execute the following cell, you may have renamed the variables defined by us.</p> \n",
    "</div>"
   ]
  },
  {
   "cell_type": "code",
   "execution_count": 9,
   "metadata": {},
   "outputs": [
    {
     "name": "stdout",
     "output_type": "stream",
     "text": [
      "{'S': (0, 0, 1, 0, 1, 0, 1, 0), 'D': (0, 0, 0, 0, 0, 0, 0, 0), 'C': (0, 1, 0, 1, 0, 1, 0, 0), 'P': (1, 0, 0, 0, 0, 0, 0, 1)}\n",
      "{'S': (0, 0, 1, 0, 1, 0, 1, 0), 'D': (0, 1, 0, 0, 0, 0, 0, 0), 'C': (1, 0, 0, 1, 0, 0, 0, 1), 'P': (0, 0, 0, 0, 0, 1, 0, 0)}\n",
      "None\n",
      "{'S': (0, 0, 0, 0, 1, 0, 1, 0), 'D': (1, 0, 0, 1, 0, 0, 0, 0), 'C': (0, 1, 0, 0, 0, 1, 0, 0), 'P': (0, 0, 1, 0, 0, 0, 0, 1)}\n",
      "{'S': (0, 0, 1, 0, 1, 0, 1, 0), 'D': (0, 0, 0, 0, 0, 0, 0, 0), 'C': (0, 1, 0, 1, 0, 1, 0, 0), 'P': (1, 0, 0, 0, 0, 0, 0, 1)}\n",
      "{'S': (0, 0, 1, 0, 1, 0, 1, 0), 'D': (1, 0, 0, 0, 0, 0, 0, 1), 'C': (0, 1, 0, 1, 0, 1, 0, 0), 'P': (0, 0, 0, 0, 0, 0, 0, 0)}\n"
     ]
    }
   ],
   "source": [
    "print(ac_search_solver(csp_21))\n",
    "print(ac_search_solver(csp_22))\n",
    "print(ac_search_solver(csp_23))\n",
    "print(ac_search_solver(csp_24))\n",
    "print(ac_search_solver(csp_25))\n",
    "print(ac_search_solver(csp_26))"
   ]
  },
  {
   "cell_type": "code",
   "execution_count": null,
   "metadata": {},
   "outputs": [],
   "source": []
  }
 ],
 "metadata": {
  "celltoolbar": "Raw Cell Format",
  "kernelspec": {
   "display_name": "Python 3",
   "language": "python",
   "name": "python3"
  },
  "language_info": {
   "codemirror_mode": {
    "name": "ipython",
    "version": 3
   },
   "file_extension": ".py",
   "mimetype": "text/x-python",
   "name": "python",
   "nbconvert_exporter": "python",
   "pygments_lexer": "ipython3",
   "version": "3.7.6"
  }
 },
 "nbformat": 4,
 "nbformat_minor": 2
}
